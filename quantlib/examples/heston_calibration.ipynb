{
 "metadata": {
  "name": "heston_calibration"
 }, 
 "nbformat": 2, 
 "worksheets": [
  {
   "cells": [
    {
     "cell_type": "markdown", 
     "source": [
      "Calibration of Heston's Model on SPX data", 
      "=======================================", 
      "", 
      "This notebook demonstrates the calibration of Heston's model on SPX data, using the QuantLib hestonmodel class. ", 
      "The code is adapted from the test suite written by Klaus Spandersen.", 
      "", 
      "", 
      "", 
      "", 
      "", 
      "QuantLib dependencies", 
      "---------------------"
     ]
    }, 
    {
     "cell_type": "code", 
     "collapsed": true, 
     "input": [
      "import numpy as np", 
      "import pandas", 
      "from pandas import DataFrame", 
      "import datetime", 
      "", 
      "from quantlib.models.equity.heston_model import (", 
      "    HestonModelHelper, HestonModel, ImpliedVolError)", 
      "", 
      "from quantlib.processes.heston_process import HestonProcess", 
      "from quantlib.pricingengines.vanilla import AnalyticHestonEngine", 
      "from quantlib.math.optimization import LevenbergMarquardt, EndCriteria", 
      "from quantlib.settings import Settings", 
      "from quantlib.time.api import Period, Date, Actual365Fixed, TARGET, Days", 
      "from quantlib.quotes import SimpleQuote", 
      "from quantlib.termstructures.yields.zero_curve import ZeroCurve"
     ], 
     "language": "python", 
     "outputs": [], 
     "prompt_number": 113
    }, 
    {
     "cell_type": "markdown", 
     "source": [
      "Utility functions", 
      "-----------------", 
      "", 
      "The calibration process uses some utility functions, defined below."
     ]
    }, 
    {
     "cell_type": "code", 
     "collapsed": false, 
     "input": [
      "def dateToQLDate(dt):", 
      "    \"\"\"", 
      "    Converts a datetime object into a QL Date", 
      "    \"\"\"", 
      "    ", 
      "    return Date(dt.day, dt.month, dt.year)", 
      "", 
      "def dfToZeroCurve(df, dtSettlement, daycounter=Actual365Fixed()):", 
      "    \"\"\"", 
      "    Convert a panda data frame into a QL zero curve", 
      "    \"\"\"", 
      "    ", 
      "    dates = [dateToQLDate(dt) for dt in df.index]", 
      "    dates.insert(0, dateToQLDate(dtSettlement))", 
      "    dates.append(dates[-1]+365*2)", 
      "    vx = list(df.values)", 
      "    vx.insert(0, vx[0])", 
      "    vx.append(vx[-1])", 
      "    return ZeroCurve(dates, vx, daycounter)"
     ], 
     "language": "python", 
     "outputs": [], 
     "prompt_number": 114
    }, 
    {
     "cell_type": "markdown", 
     "source": [
      "Market data is converted into a set of helper objects, one per data point. For each strike", 
      "and maturity, we construct a helper for the bid and ask prices."
     ]
    }, 
    {
     "cell_type": "code", 
     "collapsed": true, 
     "input": [
      "def heston_helpers(spot, df_option, dtTrade, df_rates):", 
      "    \"\"\"", 
      "    Create array of heston options helpers", 
      "    \"\"\"", 
      "", 
      "    DtSettlement = dateToQLDate(dtTrade)", 
      "    ", 
      "    settings = Settings()", 
      "    settings.evaluation_date = DtSettlement", 
      "", 
      "    calendar = TARGET()", 
      "", 
      "    # convert data frame (date/value) into zero curve", 
      "    # expect the index to be a date, and 1 column of values", 
      "", 
      "    risk_free_ts = dfToZeroCurve(df_rates['R'], dtTrade)", 
      "    dividend_ts = dfToZeroCurve(df_rates['D'], dtTrade)", 
      "", 
      "    # loop through rows in option data frame, construct", 
      "    # helpers for bid/ask", 
      "", 
      "    oneDay = datetime.timedelta(days=1)", 
      "    dtExpiry = [dtTrade + int(t*365)*oneDay for t in df_option['T']]", 
      "    df_option['dtExpiry'] = dtExpiry", 
      "", 
      "    options = []", 
      "    for index, row in df_option.T.iteritems():", 
      "", 
      "        strike = row['K']", 
      "        if (strike/spot.value > 1.3) | (strike/spot.value < .7):", 
      "            continue", 
      "", 
      "        days = int(365*row['T'])", 
      "        maturity = Period(days, Days)", 
      "", 
      "        options.append(", 
      "                HestonModelHelper(", 
      "                    maturity, calendar, spot.value,", 
      "                    strike, SimpleQuote(row['VB']),", 
      "                    risk_free_ts, dividend_ts,", 
      "                    ImpliedVolError))", 
      "        ", 
      "        options.append(", 
      "                HestonModelHelper(", 
      "                    maturity, calendar, spot.value,", 
      "                    strike, SimpleQuote(row['VA']),", 
      "                    risk_free_ts, dividend_ts,", 
      "                    ImpliedVolError))", 
      "", 
      "    return {'options':options, 'spot': spot}"
     ], 
     "language": "python", 
     "outputs": [], 
     "prompt_number": 115
    }, 
    {
     "cell_type": "markdown", 
     "source": [
      "The function merge_df merges the result of the calibration (fitted option price and fitted implied volatility)", 
      "with the input data set. This will facilitate the plotting of actual vs. fitted volatility."
     ]
    }, 
    {
     "cell_type": "code", 
     "collapsed": true, 
     "input": [
      "def merge_df(df_option, options, model_name):", 
      "    df_output = DataFrame.filter(df_option,", 
      "                items=['dtTrade', 'dtExpiry',", 
      "                       'Type', 'K', 'Mid',", 
      "                       'QuickDelta', 'VB', 'VA',", 
      "                       'R', 'D', 'ATMVol', 'F', 'T'])", 
      "", 
      "    model_value = np.zeros(len(df_option))", 
      "    model_iv = np.zeros(len(df_option))", 
      "    for i, j in zip(range(len(df_option)), range(0, len(options),2)):", 
      "        model_value[i] = options[j].model_value()", 
      "        model_iv[i] = options[j].impliedVolatility(model_value[i],", 
      "            accuracy=1.e-5, maxEvaluations=5000,", 
      "            minVol=.01, maxVol=10.0)", 
      "", 
      "    df_output[model_name + '-Value'] = model_value", 
      "    df_output[model_name + '-IV'] = model_iv", 
      "    ", 
      "    return df_output"
     ], 
     "language": "python", 
     "outputs": [], 
     "prompt_number": 116
    }, 
    {
     "cell_type": "markdown", 
     "source": [
      "The calibration process", 
      "-----------------------", 
      "", 
      "The calibration process is performed by the following function."
     ]
    }, 
    {
     "cell_type": "code", 
     "collapsed": true, 
     "input": [
      "def heston_calibration(spot, df_option, dtTrade=None, df_rates=None, ival=None):", 
      "    ", 
      "    \"\"\"", 
      "    calibrate heston model", 
      "    \"\"\"", 
      "", 
      "    # array of option helpers", 
      "    hh = heston_helpers(spot, df_option, dtTrade, df_rates)", 
      "    options = hh['options']", 
      "    spot = hh['spot']", 
      "", 
      "    risk_free_ts = dfToZeroCurve(df_rates['R'], dtTrade)", 
      "    dividend_ts = dfToZeroCurve(df_rates['D'], dtTrade)", 
      "", 
      "    # initial values for parameters", 
      "    if ival is None:", 
      "        ival = {'v0': 0.1, 'kappa': 1.0, 'theta': 0.1,", 
      "        'sigma': 0.5, 'rho': -.5}", 
      "", 
      "    process = HestonProcess(", 
      "        risk_free_ts, dividend_ts, spot, ival['v0'], ival['kappa'],", 
      "         ival['theta'], ival['sigma'], ival['rho'])", 
      "", 
      "    model = HestonModel(process)", 
      "    engine = AnalyticHestonEngine(model, 64)", 
      "", 
      "    for option in options:", 
      "        option.set_pricing_engine(engine)", 
      "", 
      "    om = LevenbergMarquardt(1e-8, 1e-8, 1e-8)", 
      "    model.calibrate(", 
      "        options, om, EndCriteria(400, 40, 1.0e-8, 1.0e-8, 1.0e-8)", 
      "    )", 
      "", 
      "    print('model calibration results:')", 
      "    print('v0: %f kappa: %f theta: %f sigma: %f rho: %f' %", 
      "          (model.v0, model.kappa, model.theta, model.sigma,", 
      "           model.rho))", 
      "", 
      "    calib_error = (1.0/len(options)) * sum(", 
      "        [pow(o.calibration_error()*100.0,2) for o in options])", 
      "", 
      "    print('SSE: %f' % calib_error)", 
      "", 
      "    # merge the fitted volatility and the input data set", 
      "    return merge_df(df_option, options, 'Heston')"
     ], 
     "language": "python", 
     "outputs": [], 
     "prompt_number": 117
    }, 
    {
     "cell_type": "markdown", 
     "source": [
      "Calibration", 
      "-----------", 
      "", 
      "Finally, the calibration is performed by first loading the risk-free rates and dividend yields "
     ]
    }, 
    {
     "cell_type": "code", 
     "collapsed": true, 
     "input": [
      "df_rates = pandas.load('data/df_rates.pkl')"
     ], 
     "language": "python", 
     "outputs": [], 
     "prompt_number": 118
    }, 
    {
     "cell_type": "markdown", 
     "source": [
      "then loading the option data and recovering the spot price"
     ]
    }, 
    {
     "cell_type": "code", 
     "collapsed": false, 
     "input": [
      "df_option = pandas.load('data/df_SPX_24jan2011.pkl')", 
      "dtTrade = df_option['dtTrade'][0]", 
      "# back out the spot from any forward", 
      "iRate = df_option['R'][0]", 
      "iDiv = df_option['D'][0]", 
      "TTM = df_option['T'][0]", 
      "Fwd = df_option['F'][0]", 
      "spot = SimpleQuote(Fwd*np.exp(-(iRate-iDiv)*TTM))", 
      "print('Spot: %f risk-free rate: %f div. yield: %f' % (spot.value, iRate, iDiv))"
     ], 
     "language": "python", 
     "outputs": [
      {
       "output_type": "stream", 
       "stream": "stdout", 
       "text": [
        "Spot: 1290.589966 risk-free rate: 0.003311 div. yield: 0.018507"
       ]
      }
     ], 
     "prompt_number": 119
    }, 
    {
     "cell_type": "markdown", 
     "source": [
      "The calibration routine is finally invoked:"
     ]
    }, 
    {
     "cell_type": "code", 
     "collapsed": false, 
     "input": [
      "df_heston_cal = heston_calibration(spot, df_option, dtTrade,", 
      "                               df_rates)"
     ], 
     "language": "python", 
     "outputs": [
      {
       "output_type": "stream", 
       "stream": "stdout", 
       "text": [
        "model calibration results:", 
        "v0: 0.033274 kappa: 3.798950 theta: 0.079234 sigma: 2.406622 rho: -0.699407", 
        "SSE: 1.000289"
       ]
      }, 
      {
       "output_type": "stream", 
       "stream": "stdout", 
       "text": [
        ""
       ]
      }
     ], 
     "prompt_number": 120
    }, 
    {
     "cell_type": "markdown", 
     "source": [
      "Plot Actual vs. Fitted Implied Volatility", 
      "-----------------------------------------", 
      "", 
      "We display 4 graphs in one plot, and show the bid/ask market volatility with the fitted volatility", 
      "for selected maturities."
     ]
    }, 
    {
     "cell_type": "code", 
     "collapsed": true, 
     "input": [
      "def calibration_subplot(ax, group, i, model_name):", 
      "    group = group.sort_index(by='K')", 
      "    dtExpiry = group.get_value(group.index[0], 'dtExpiry')", 
      "    K = group['K']", 
      "    VB = group['VB']", 
      "    VA = group['VA']", 
      "    VM = group[model_name + '-IV']", 
      "", 
      "    ax.plot(K, VA, 'b.', K,VB,'b.', K,VM,'r-')", 
      "    if i==3:", 
      "        ax.set_xlabel('Strike')", 
      "    if i==0:", 
      "        ax.set_ylabel('Implied Vol')", 
      "    ax.text(.6,.8,'%s' % dtExpiry, transform=ax.transAxes)", 
      "    ", 
      "def calibration_plot(title, df_calibration, model_name):", 
      "    df_calibration = DataFrame.filter(df_calibration,", 
      "                    items=['dtExpiry', ", 
      "                           'K', 'VB', 'VA',", 
      "                           'T', model_name+'-IV'])", 
      "", 
      "    # group by maturity", 
      "    grouped = df_calibration.groupby('dtExpiry')", 
      "", 
      "    all_groups = [(dt, g) for dt, g in grouped]", 
      "    ", 
      "    xy = [(0,0), (0,1), (1,0), (1,1)]", 
      "", 
      "    for k in range(0, len(all_groups),4):", 
      "        if (k+4) >= len(all_groups):", 
      "            break", 
      "        plt.figure()", 
      "        fig, axs = plt.subplots(2, 2, sharex=True, sharey=True)", 
      "", 
      "        for i in range(4):", 
      "            x,y = xy[i]", 
      "            calibration_subplot(axs[x,y], all_groups[i+k][1],i, model_name)"
     ], 
     "language": "python", 
     "outputs": [], 
     "prompt_number": 125
    }, 
    {
     "cell_type": "code", 
     "collapsed": false, 
     "input": [
      "title = 'Heston Model (%s)' % dtTrade", 
      "calibration_plot(title, df_heston_cal, 'Heston')"
     ], 
     "language": "python", 
     "outputs": [
      {
       "output_type": "display_data", 
       "png": "[encoded data removed]"
      }, 
      {
       "output_type": "display_data", 
       "png": "[encoded data removed]"
      }
     ], 
     "prompt_number": 126
    }
   ]
  }
 ]
}